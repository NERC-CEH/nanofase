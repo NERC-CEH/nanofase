{
 "cells": [
  {
   "cell_type": "markdown",
   "metadata": {
    "collapsed": true
   },
   "source": [
    "# Conventions\n",
    "\n",
    "*Work in progress*\n",
    "\n",
    "List of code style, formatting and naming conventions to follow. Based loosely on these style guides, as well as following some [Pythonic conventions](https://www.python.org/dev/peps/pep-0008/):\n",
    "- [fortran90.org: Fortran Best Practices](http://www.fortran90.org/src/best-practices.html)\n",
    "- [fortran.com: Fortran Style](http://www.fortran.com/Fortran_Style.pdf)\n",
    "\n",
    "## Indentation, line length and encoding\n",
    "- Use four spaces to indent. Most editors, such as Sublime Text and Atom, allow you to specify that the <kbd>TAB</kbd> key inserts spaces.\n",
    "- Limit line length to 80 characters.\n",
    "- Save Fortran files in UTF-8 encoding.\n",
    "\n",
    "## Naming conventions\n",
    "Though Fortran is insensitive to case, it's still important to follow some sort of naming convention to improve code readability.\n",
    "- Use lowercase for all Fortran constructs (`do`, `subroutine`, `module`, etc).\n",
    "- Follow the Java convention of using lowerCamelCase for variable and procedure names (`settlingVelocity`, `calculateSettlingVelocity`) and UpperCamelCase for module, class, interface and type name (`RiverReachModule`, `RiverReach`).\n",
    "- The exception to this is that mathematical variables should follow LaTeX-like notation and utilising underscores and capatilisation accordingly. For example, $\\alpha$ should be named `alpha`, $\\Gamma$ should be named `Gamma` and $k_{\\text{settle}}$ should be named `k_settle`.\n",
    "    - Maintain the list of mathematical symbols used, which is located at [doc\\Mathematical Symbols.ipynb](https://github.com/NERC-CEH/nanofase/blob/master/doc/Mathematical%20symbols.ipynb).\n",
    "- Constants and globally-available variables should be written in all capitals, e.g., `ERROR_HANDLER`. Again, the exception to this is for mathematical constants, which should follow the above rule. For example, gravitational acceleration from the Constants user-derived type should be obtained by `C%g`.\n",
    "- Acronyms of three or more letters should use CamelCase instead of uppercase. For example, `nSizeClassesSpm`.\n",
    "- Prepend integer variables that give a length or size with `n`. For example, number of RiverReaches in a SubRiver would be `nRiverReaches`, and the number of nanoparticle size class would be `nSizeClassesNP`.\n",
    "- Prepend integer variables that represent an array index with `i`. For example, index of a particular size class could be called `iSizeClass`.\n",
    "- The variable names `i`, `j` and `k` should be reserved for loop iterators.\n",
    "- Be explicit as possible without being unduly verbose when choosing names. A variable or procedure name should describe the value or functionality without need for further documentation. For example, use `spmSizeClasses` instead of `spmSC` and `calculateSettlingVelocity` instead of `calW`. The exception is that mathematical formalae can use mathematical symbols (as detailed above) to improve the readability of algorithms (i.e., make them resemble their mathematically-notated counterparts). For example, $E=mc^2$ could be coded `E = m*c**2`.\n",
    "- Array variable names should be plural when they represent a collection of scalars. For example, a 1D array `densities` could represent an array of densities for different objects.\n",
    "- The name of functions that return or variable that are logical values should usually be prepended with \"is\" as they are usually used to perform a check, often inside an `if` construct. This promotes code readability. For example, `if (gridCell%isEmpty())`.\n",
    "\n",
    "### Getters, setters, initialisers, creators and calculators\n",
    "Procedure names should distinguish between the types of operations they perform by the use of the keywords \"get\", \"set\", \"create\", \"init\" and \"calculate\":\n",
    "- `create()`: A class can have a create procedure that, if represent, must be called before anything else. It performs calculations and runs operation (e.g., gets data from a file) and populates the instance's type variables.\n",
    "- `updateSomething()`: Update methods are primarily for updating the instance's type variables at each time step. This might include performing some calculations or simulations.\n",
    "- `getSomething()`: Return a type variable (\"something\") or a simple modification of a class variable. For example, a RiverReach might have `getWidth()` to return a pre-calculated width.\n",
    "- `setSomething(something)`: Set a type variable (\"something\")\n",
    "- `calculateSomething(args)`: Calculate functions should be _pure_ functions that take input arguments, perform some calculation with them, and return an output. They shouldn't modify any variable except the input arguments and result variable. A calculate function is the analogy to a mathematical function, and might be called from within `create` and `init` procedures to set up class variables (though the calculate functions themselves shouldn't alter the type variables)."
   ]
  },
  {
   "cell_type": "code",
   "execution_count": null,
   "metadata": {
    "collapsed": true
   },
   "outputs": [],
   "source": []
  }
 ],
 "metadata": {
  "kernelspec": {
   "display_name": "Python 3",
   "language": "python",
   "name": "python3"
  },
  "language_info": {
   "codemirror_mode": {
    "name": "ipython",
    "version": 3
   },
   "file_extension": ".py",
   "mimetype": "text/x-python",
   "name": "python",
   "nbconvert_exporter": "python",
   "pygments_lexer": "ipython3",
   "version": "3.6.0"
  }
 },
 "nbformat": 4,
 "nbformat_minor": 2
}
