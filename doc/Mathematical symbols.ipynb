{
 "cells": [
  {
   "cell_type": "markdown",
   "metadata": {},
   "source": [
    "# Mathematical symbols\n",
    "\n",
    "List of mathematical symbols used as variable names.\n",
    "\n",
    "## Constants\n",
    "\n",
    "| Coded symbol | Mathematical symbol | Description                             |\n",
    "| ------------ | ------------------- | --------------------------------------- |\n",
    "| `g`          | $$g$$               | Gravitational acceleration, 9.81 m/s2   |"
   ]
  }
 ],
 "metadata": {
  "kernelspec": {
   "display_name": "Python 3",
   "language": "python",
   "name": "python3"
  },
  "language_info": {
   "codemirror_mode": {
    "name": "ipython",
    "version": 3
   },
   "file_extension": ".py",
   "mimetype": "text/x-python",
   "name": "python",
   "nbconvert_exporter": "python",
   "pygments_lexer": "ipython3",
   "version": "3.6.0"
  }
 },
 "nbformat": 4,
 "nbformat_minor": 2
}
